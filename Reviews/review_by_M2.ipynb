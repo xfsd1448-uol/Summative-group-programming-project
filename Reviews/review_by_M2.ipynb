{
 "cells": [
  {
   "cell_type": "markdown",
   "id": "f5c8971e",
   "metadata": {},
   "source": [
    "Firstly, the code in M1 successfully extracts and saves the structured sequence of respondent answer.\n",
    "Secondly, the code in M2 collects the files from OneDrive and combines them into a file.\n",
    "Thirdly, the code in M3 calculates the mean response values and correctly shows the results.\n",
    "Finally, the code in M4 imports the appropriate processes and runs the complete analysis\n"
   ]
  },
  {
   "cell_type": "markdown",
   "id": "6d109aea",
   "metadata": {},
   "source": []
  }
 ],
 "metadata": {
  "language_info": {
   "name": "python"
  }
 },
 "nbformat": 4,
 "nbformat_minor": 5
}
