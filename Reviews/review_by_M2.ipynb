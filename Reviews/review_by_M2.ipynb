{
 "cells": [
  {
   "cell_type": "markdown",
   "id": "f5c8971e",
   "metadata": {},
   "source": [
    "code checking\n",
    "Firstly, the code in M1 (extract_answers_sequence) successfully extracts and uses the (write_answers_sequence) function to save the structured sequence of respondent answers.\n",
    "\n",
    "Second, the code in M2 (download_answer_files) effectively collects the student response files from OneDrive and combines them into a single file by using the (collate_answer_files) function.\n",
    "\n",
    "Thirdly, the code in M3 (generate_means_sequence and visualize_data) calculates the mean response values per question (total 100) and accurately makes a scatter plot of the mean sequence.\n",
    "\n",
    "Finally, the code in M4 (run_full_analysis_M4.py) correctly imports all the modules before and completes the whole analysis pipeline. Also, it generates the final output.\n"
   ]
  },
  {
   "cell_type": "markdown",
   "id": "88f8ad28",
   "metadata": {},
   "source": [
    "In this task, my role is downloading the file and collation module.\n",
    "First, I wrote the (download_answer_files) function and uploaded the quiz_answers_named_a1_to_a25 folder to my school (University of Leeds) OneDrive account. However, I had some challenges as the code has some errors and the files could not be downloaded via the share links. Therefore, I did some research and discussing with my group members. Then, I found that I could change the link format by adding &download=1 at the end of each of the file links to convert them into correct download links. Also, the answer respondent data is successfully downloaded after fixing the code.\n",
    "To add on, I wrote the (collate_answer_files) function to generate a single file (collated_answers.txt) with an asterisk (*) separating the data from each respondent.\n"
   ]
  }
 ],
 "metadata": {
  "language_info": {
   "name": "python"
  }
 },
 "nbformat": 4,
 "nbformat_minor": 5
}
