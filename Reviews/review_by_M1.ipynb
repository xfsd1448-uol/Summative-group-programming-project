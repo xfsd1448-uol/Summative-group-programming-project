{
 "cells": [
  {
   "cell_type": "markdown",
   "id": "7eb5a993",
   "metadata": {},
   "source": [
    "1. The first function, \"extract_answers_sequence(filepath)\", reads the file line by line. It identifies when each line start with the word \"Question\", blocks that out so it doesn't count it as a responce, then detects which line stores \"[x]\". \n",
    "\n",
    "The second function, \"write_answers_sequence(answers, n)\", creates a new file which is called \"answers_list_respondent_n.txt\", where it writes extracts the answer sequence for each specified respondent. \n",
    "\n",
    "For next time, some comments on the code could be added for clarifications to the reader to understand what the code does. "
   ]
  },
  {
   "cell_type": "markdown",
   "id": "2a82be8e",
   "metadata": {},
   "source": [
    "2. This script offers a useful and structured way to handle respondent data in extensive evaluations. By streamlining file gathering and aggregation, it lays the foundation for scalable analysis workflows.\n",
    "\n",
    "An additional step that can be taken to improve the code is to add lines of code that handle unsuccessful file reads. "
   ]
  },
  {
   "cell_type": "markdown",
   "id": "f8af4b36",
   "metadata": {},
   "source": [
    "3. Multiple-choice survey answers from a compiled answer file are analysed and visualised by this script. It makes statistical summarisation (mean response per question) and trend graphing by respondent easier for interpretability.\n",
    "\n",
    "An additional step that may be taken to improve the code is to make it more generalised rather than coding for 100 questions. "
   ]
  },
  {
   "cell_type": "markdown",
   "id": "30795666",
   "metadata": {},
   "source": [
    "4. To integrate the several modules created for the project, the run_full_analysis_M4.py script is necessary. By automating the processes of data collecting, processing, and analysis, the team can effectively examine if the quiz answers contain a purposeful structure. For upcoming executions, this integration guarantees uniformity, reproducibility, and usability."
   ]
  }
 ],
 "metadata": {
  "language_info": {
   "name": "python"
  }
 },
 "nbformat": 4,
 "nbformat_minor": 5
}
