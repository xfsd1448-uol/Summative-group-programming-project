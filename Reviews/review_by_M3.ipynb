{
 "cells": [
  {
   "cell_type": "markdown",
   "metadata": {},
   "source": [
    "For this code, I use the generate means sequence() to extract the values of every 100 options in the list (that is, integrate the answers from same question but different people, calculate the average answer value of each question)and use visualize data() : according to the parameters and plot-related equations, generate scatter plots and line graphs to represent the mean scatter plot of each of the 100 questions and the curve graph of all people's answers to all questions.\n",
    "\n",
    "At the beginning, I was still confusing with some code, such as how to reference others' code and how to extract the options for every 100 values in the list. By asking the group members and search my previous code works, I gradually recalled how to write them. \n",
    "\n",
    "During the code test run, I discovered I could not push my code. After l asked the teacher , l found that it is because my group member and I were editing the same document, so there were two version, I need to type git merge and choose the correct one. \n",
    "\n",
    "And also a very important reminding in my code is you need to use a common path for your document, not your own path(like Output/collated_answers.txt ). If you write your own path, other people will not be able to run your code.\n",
    "\n",
    "Last but not least, team communication is really important.You need to set a deadline to everyone, because some code can only running after other team members finish their coding. Also to help other members and yourself with some difficult coding parts you want to ask and some details we all need to know(like what is the output data like, so then I start coding in data selection and calculate part).\n",
    "\n",
    "I think these are the important parts I learned during this coding project."
   ]
  }
 ],
 "metadata": {
  "language_info": {
   "name": "python"
  }
 },
 "nbformat": 4,
 "nbformat_minor": 2
}
